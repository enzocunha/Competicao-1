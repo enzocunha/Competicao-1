{
  "cells": [
    {
      "cell_type": "code",
      "execution_count": null,
      "metadata": {
        "colab": {
          "base_uri": "https://localhost:8080/"
        },
        "id": "9sy5rCQ3OxW4",
        "outputId": "4ced71fb-575c-4513-a208-48407e8ca7b5"
      },
      "outputs": [
        {
          "output_type": "stream",
          "name": "stdout",
          "text": [
            "Mounted at /content/gdrive\n"
          ]
        }
      ],
      "source": [
        "# This Python 3 environment comes with many helpful analytics libraries installed\n",
        "# It is defined by the kaggle/python Docker image: https://github.com/kaggle/docker-python\n",
        "# For example, here's several helpful packages to load\n",
        "\n",
        "import numpy as np # linear algebra\n",
        "import pandas as pd # data processing, CSV file I/O (e.g. pd.read_csv)\n",
        "\n",
        "# Input data files are available in the read-only \"../input/\" directory\n",
        "# For example, running this (by clicking run or pressing Shift+Enter) will list all files under the input directory\n",
        "\n",
        "# Importando dataset  do meu google drive\n",
        "from google.colab import drive \n",
        "drive.mount('/content/gdrive')\n",
        "\n",
        "# You can write up to 20GB to the current directory (/kaggle/working/) that gets preserved as output when you create a version using \"Save & Run All\" \n",
        "# You can also write temporary files to /kaggle/temp/, but they won't be saved outside of the current session"
      ]
    },
    {
      "cell_type": "code",
      "execution_count": null,
      "metadata": {
        "id": "3iU0F5UdOxW9"
      },
      "outputs": [],
      "source": [
        "df_train = pd.read_csv('/content/gdrive/My Drive/Colab Notebooks/Inteligência computacional/Competição 1/train.csv')"
      ]
    },
    {
      "cell_type": "code",
      "execution_count": null,
      "metadata": {
        "id": "Db5kw95xOxW9"
      },
      "outputs": [],
      "source": [
        "def preproc(df):\n",
        "    df.QT_DIA_SOLICITADO = df.QT_DIA_SOLICITADO.fillna(0)\n",
        "    df.DS_INDICACAO_ACIDENTE = df.DS_INDICACAO_ACIDENTE.fillna('0')\n",
        "    df.DS_TIPO_INTERNACAO = df.DS_TIPO_INTERNACAO.fillna('0')\n",
        "    df.DS_TIPO_ATENDIMENTO = df.DS_TIPO_ATENDIMENTO.fillna('0')\n",
        "    df.DS_UNIDADE_TEMPO_DOENCA = df.DS_UNIDADE_TEMPO_DOENCA.fillna('0')\n",
        "    df.QT_TEMPO_DOENCA = df.QT_TEMPO_DOENCA.fillna(0)\n",
        "    df.CD_GUIA_REFERENCIA = df.CD_GUIA_REFERENCIA.fillna(0)\n",
        "    return df"
      ]
    },
    {
      "cell_type": "code",
      "execution_count": null,
      "metadata": {
        "id": "K0U8gY2NOxW-"
      },
      "outputs": [],
      "source": [
        "from sklearn.preprocessing import StandardScaler, LabelEncoder, OneHotEncoder\n",
        "import numpy as np\n",
        "\n",
        "def standardScalerFunc(data):\n",
        "  ss = StandardScaler()\n",
        "  sstransformed = ss.fit_transform(data)\n",
        "\n",
        "  return ss, pd.DataFrame(sstransformed)\n",
        "\n",
        "def labelEncoderFunc(data):\n",
        "  ss = LabelEncoder()\n",
        "  sstransformed = ss.fit_transform(data) \n",
        "\n",
        "  return ss, pd.DataFrame(sstransformed)\n",
        "\n",
        "def oneHotEncoderFunc(data):\n",
        "  ohe = OneHotEncoder(sparse=False, handle_unknown='ignore')\n",
        "  ohetransformed = ohe.fit_transform(data)\n",
        "  \n",
        "  return ohe, pd.DataFrame(ohetransformed)"
      ]
    },
    {
      "cell_type": "code",
      "execution_count": null,
      "metadata": {
        "colab": {
          "base_uri": "https://localhost:8080/"
        },
        "id": "zCpNUl1eOxW-",
        "outputId": "c64a8a42-4211-4ea7-d532-68ba0da960b8"
      },
      "outputs": [
        {
          "output_type": "stream",
          "name": "stdout",
          "text": [
            "227122\n",
            "227122\n"
          ]
        }
      ],
      "source": [
        "df_train = preproc(df_train)\n",
        "numeric = df_train[['NR_SEQ_REQUISICAO', 'QT_SOLICITADA', 'QT_DIA_SOLICITADO', 'QT_TEMPO_DOENCA', 'CD_GUIA_REFERENCIA']]\n",
        "categoric = df_train[['DS_ITEM','DS_UNIDADE_TEMPO_DOENCA', 'DS_TIPO_INTERNACAO', 'DS_CARATER_ATENDIMENTO', 'DS_TIPO_ATENDIMENTO', 'DS_INDICACAO_ACIDENTE', 'DS_TIPO_PREST_SOLICITANTE', 'DS_TIPO_GUIA', 'DS_GRUPO', 'CD_ITEM', 'DS_CBO', 'DS_SUBGRUPO']]\n",
        "target = df_train['DS_STATUS_ITEM']\n",
        "\n",
        "X = pd.concat([numeric, categoric], axis=1)\n",
        "print(len(X))\n",
        "X = X.dropna()\n",
        "print(len(X))\n",
        "y = target"
      ]
    },
    {
      "cell_type": "code",
      "execution_count": null,
      "metadata": {
        "id": "blI_aYdYOxW_"
      },
      "outputs": [],
      "source": [
        "from sklearn.model_selection import train_test_split\n",
        "from sklearn import svm\n",
        "from sklearn.metrics import classification_report, confusion_matrix, accuracy_score, f1_score\n",
        "\n",
        "X_train, X_test, y_train, y_test = train_test_split(X, y, test_size=0.3, random_state=0) # 80% training 20% test\n",
        "\n",
        "#train\n",
        "ss, x_train_ss = standardScalerFunc(X_train[['QT_SOLICITADA', 'QT_DIA_SOLICITADO', 'QT_TEMPO_DOENCA', 'CD_GUIA_REFERENCIA']])\n",
        "ohe, x_train_ohe = oneHotEncoderFunc(X_train[['DS_UNIDADE_TEMPO_DOENCA', 'DS_TIPO_INTERNACAO', 'DS_CARATER_ATENDIMENTO', 'DS_TIPO_ATENDIMENTO', 'DS_INDICACAO_ACIDENTE', 'DS_TIPO_PREST_SOLICITANTE', 'DS_TIPO_GUIA', 'DS_GRUPO']])\n",
        "\n",
        "x_train = pd.concat([x_train_ss, x_train_ohe], axis=1)\n",
        "\n",
        "#test\n",
        "x_test_ss = ss.transform(X_test[['QT_SOLICITADA', 'QT_DIA_SOLICITADO', 'QT_TEMPO_DOENCA', 'CD_GUIA_REFERENCIA']])\n",
        "x_test_ohe = ohe.transform(X_test[['DS_UNIDADE_TEMPO_DOENCA', 'DS_TIPO_INTERNACAO', 'DS_CARATER_ATENDIMENTO', 'DS_TIPO_ATENDIMENTO', 'DS_INDICACAO_ACIDENTE', 'DS_TIPO_PREST_SOLICITANTE', 'DS_TIPO_GUIA', 'DS_GRUPO']])\n",
        "\n",
        "x_test = pd.concat([pd.DataFrame(x_test_ss), pd.DataFrame(x_test_ohe)], axis=1)\n",
        "\n",
        "#classifier\n",
        "classifier = svm.SVC()\n",
        "classifier.fit(x_train, y_train)\n",
        "y_pred = classifier.predict(x_test)"
      ]
    },
    {
      "cell_type": "code",
      "execution_count": null,
      "metadata": {
        "id": "ATa5ZRZ4OxW_"
      },
      "outputs": [],
      "source": [
        "print(confusion_matrix(y_test,y_pred))\n",
        "print(classification_report(y_test,y_pred))\n",
        "print(accuracy_score(y_test, y_pred))"
      ]
    },
    {
      "cell_type": "code",
      "execution_count": null,
      "metadata": {
        "id": "WaeEQEu_SGXB"
      },
      "outputs": [],
      "source": [
        "ss, x_ss = standardScalerFunc(X[['QT_SOLICITADA', 'QT_DIA_SOLICITADO', 'QT_TEMPO_DOENCA', 'CD_GUIA_REFERENCIA']])\n",
        "ohe, x_ohe = oneHotEncoderFunc(X[['DS_UNIDADE_TEMPO_DOENCA', 'DS_TIPO_INTERNACAO', 'DS_CARATER_ATENDIMENTO', 'DS_TIPO_ATENDIMENTO', 'DS_INDICACAO_ACIDENTE', 'DS_TIPO_PREST_SOLICITANTE', 'DS_TIPO_GUIA', 'DS_GRUPO']])\n",
        "x = pd.concat([pd.DataFrame(x_ss), pd.DataFrame(x_ohe)], axis=1)"
      ]
    },
    {
      "cell_type": "code",
      "execution_count": null,
      "metadata": {
        "colab": {
          "base_uri": "https://localhost:8080/"
        },
        "id": "ahg0pC4vRnWZ",
        "outputId": "a6e0dfad-2fce-4a7d-cbc5-cc2d2f1f6ee5"
      },
      "outputs": [
        {
          "name": "stdout",
          "output_type": "stream",
          "text": [
            "Fitting 3 folds for each of 20 candidates, totalling 60 fits\n",
            "[CV 1/3] END max_depth=25, max_features=10;, score=(train=0.754, test=0.720) total time=  21.3s\n",
            "[CV 2/3] END max_depth=25, max_features=10;, score=(train=0.756, test=0.718) total time=  21.1s\n",
            "[CV 3/3] END max_depth=25, max_features=10;, score=(train=0.755, test=0.716) total time=  21.1s\n",
            "[CV 1/3] END max_depth=25, max_features=7;, score=(train=0.753, test=0.720) total time=  21.2s\n",
            "[CV 2/3] END max_depth=25, max_features=7;, score=(train=0.755, test=0.718) total time=  20.0s\n",
            "[CV 3/3] END max_depth=25, max_features=7;, score=(train=0.755, test=0.716) total time=  20.3s\n",
            "[CV 1/3] END max_depth=25, max_features=5;, score=(train=0.752, test=0.719) total time=  19.3s\n",
            "[CV 2/3] END max_depth=25, max_features=5;, score=(train=0.754, test=0.717) total time=  19.9s\n",
            "[CV 3/3] END max_depth=25, max_features=5;, score=(train=0.754, test=0.716) total time=  19.8s\n",
            "[CV 1/3] END max_depth=25, max_features=3;, score=(train=0.750, test=0.719) total time=  17.0s\n",
            "[CV 2/3] END max_depth=25, max_features=3;, score=(train=0.752, test=0.717) total time=  17.5s\n",
            "[CV 3/3] END max_depth=25, max_features=3;, score=(train=0.752, test=0.716) total time=  17.0s\n",
            "[CV 1/3] END max_depth=20, max_features=10;, score=(train=0.746, test=0.720) total time=  20.5s\n",
            "[CV 2/3] END max_depth=20, max_features=10;, score=(train=0.748, test=0.718) total time=  21.5s\n",
            "[CV 3/3] END max_depth=20, max_features=10;, score=(train=0.748, test=0.717) total time=  20.4s\n",
            "[CV 1/3] END max_depth=20, max_features=7;, score=(train=0.744, test=0.720) total time=  18.7s\n",
            "[CV 2/3] END max_depth=20, max_features=7;, score=(train=0.746, test=0.718) total time=  18.6s\n",
            "[CV 3/3] END max_depth=20, max_features=7;, score=(train=0.746, test=0.716) total time=  18.6s\n",
            "[CV 1/3] END max_depth=20, max_features=5;, score=(train=0.742, test=0.719) total time=  16.9s\n",
            "[CV 2/3] END max_depth=20, max_features=5;, score=(train=0.744, test=0.718) total time=  17.6s\n",
            "[CV 3/3] END max_depth=20, max_features=5;, score=(train=0.745, test=0.716) total time=  17.4s\n",
            "[CV 1/3] END max_depth=20, max_features=3;, score=(train=0.738, test=0.719) total time=  14.4s\n",
            "[CV 2/3] END max_depth=20, max_features=3;, score=(train=0.741, test=0.716) total time=  14.8s\n",
            "[CV 3/3] END max_depth=20, max_features=3;, score=(train=0.741, test=0.714) total time=  15.3s\n",
            "[CV 1/3] END max_depth=15, max_features=10;, score=(train=0.730, test=0.719) total time=  20.2s\n",
            "[CV 2/3] END max_depth=15, max_features=10;, score=(train=0.732, test=0.716) total time=  17.6s\n",
            "[CV 3/3] END max_depth=15, max_features=10;, score=(train=0.732, test=0.715) total time=  17.7s\n",
            "[CV 1/3] END max_depth=15, max_features=7;, score=(train=0.728, test=0.717) total time=  18.0s\n",
            "[CV 2/3] END max_depth=15, max_features=7;, score=(train=0.729, test=0.715) total time=  15.5s\n",
            "[CV 3/3] END max_depth=15, max_features=7;, score=(train=0.730, test=0.715) total time=  17.4s\n",
            "[CV 1/3] END max_depth=15, max_features=5;, score=(train=0.724, test=0.714) total time=  13.8s\n",
            "[CV 2/3] END max_depth=15, max_features=5;, score=(train=0.727, test=0.713) total time=  14.6s\n",
            "[CV 3/3] END max_depth=15, max_features=5;, score=(train=0.727, test=0.713) total time=  13.5s\n",
            "[CV 1/3] END max_depth=15, max_features=3;, score=(train=0.719, test=0.711) total time=  10.9s\n",
            "[CV 2/3] END max_depth=15, max_features=3;, score=(train=0.721, test=0.710) total time=  11.4s\n",
            "[CV 3/3] END max_depth=15, max_features=3;, score=(train=0.721, test=0.709) total time=  11.3s\n",
            "[CV 1/3] END max_depth=10, max_features=10;, score=(train=0.709, test=0.708) total time=  13.7s\n",
            "[CV 2/3] END max_depth=10, max_features=10;, score=(train=0.712, test=0.707) total time=  13.9s\n",
            "[CV 3/3] END max_depth=10, max_features=10;, score=(train=0.713, test=0.708) total time=  13.9s\n",
            "[CV 1/3] END max_depth=10, max_features=7;, score=(train=0.707, test=0.705) total time=  11.9s\n",
            "[CV 2/3] END max_depth=10, max_features=7;, score=(train=0.708, test=0.704) total time=  11.6s\n",
            "[CV 3/3] END max_depth=10, max_features=7;, score=(train=0.707, test=0.704) total time=  11.7s\n",
            "[CV 1/3] END max_depth=10, max_features=5;, score=(train=0.702, test=0.702) total time=   9.9s\n",
            "[CV 2/3] END max_depth=10, max_features=5;, score=(train=0.702, test=0.699) total time=  10.0s\n",
            "[CV 3/3] END max_depth=10, max_features=5;, score=(train=0.704, test=0.700) total time=   9.8s\n",
            "[CV 1/3] END max_depth=10, max_features=3;, score=(train=0.699, test=0.698) total time=   7.7s\n",
            "[CV 2/3] END max_depth=10, max_features=3;, score=(train=0.699, test=0.696) total time=   7.5s\n",
            "[CV 3/3] END max_depth=10, max_features=3;, score=(train=0.700, test=0.696) total time=   7.6s\n",
            "[CV 1/3] END max_depth=5, max_features=10;, score=(train=0.692, test=0.693) total time=   8.0s\n",
            "[CV 2/3] END max_depth=5, max_features=10;, score=(train=0.693, test=0.692) total time=   8.0s\n",
            "[CV 3/3] END max_depth=5, max_features=10;, score=(train=0.693, test=0.692) total time=   8.1s\n",
            "[CV 1/3] END max_depth=5, max_features=7;, score=(train=0.692, test=0.692) total time=   6.9s\n",
            "[CV 2/3] END max_depth=5, max_features=7;, score=(train=0.691, test=0.690) total time=   6.8s\n",
            "[CV 3/3] END max_depth=5, max_features=7;, score=(train=0.692, test=0.691) total time=   6.8s\n",
            "[CV 1/3] END max_depth=5, max_features=5;, score=(train=0.687, test=0.687) total time=   5.8s\n",
            "[CV 2/3] END max_depth=5, max_features=5;, score=(train=0.689, test=0.687) total time=   5.7s\n",
            "[CV 3/3] END max_depth=5, max_features=5;, score=(train=0.690, test=0.690) total time=   7.0s\n",
            "[CV 1/3] END max_depth=5, max_features=3;, score=(train=0.680, test=0.680) total time=   4.7s\n",
            "[CV 2/3] END max_depth=5, max_features=3;, score=(train=0.680, test=0.680) total time=   4.8s\n",
            "[CV 3/3] END max_depth=5, max_features=3;, score=(train=0.680, test=0.680) total time=   4.7s\n",
            "Parâmetros encontrados: {'max_depth': 20, 'max_features': 10}\n"
          ]
        }
      ],
      "source": [
        "from sklearn.model_selection import GridSearchCV\n",
        "\n",
        "param_grid = {\n",
        "    'C':[0.1, 1, 100, 1000],\n",
        "    'gamma': [1, 0.1, 0.01, 0.001, 0.0001],\n",
        "    'kernel': ['rbf', 'linear', 'poly', 'sigmoid']\n",
        "}\n",
        "\n",
        "grid = GridSearchCV(svm.SVC()), param_grid, verbose=3, return_train_score=True, cv=3)\n",
        "grid.fit(x, y)\n",
        "print(f'Parâmetros encontrados: {grid.best_params_}')"
      ]
    }
  ],
  "metadata": {
    "colab": {
      "provenance": []
    },
    "kernelspec": {
      "display_name": "Python 3",
      "language": "python",
      "name": "python3"
    },
    "language_info": {
      "codemirror_mode": {
        "name": "ipython",
        "version": 3
      },
      "file_extension": ".py",
      "mimetype": "text/x-python",
      "name": "python",
      "nbconvert_exporter": "python",
      "pygments_lexer": "ipython3",
      "version": "3.7.12"
    }
  },
  "nbformat": 4,
  "nbformat_minor": 0
}