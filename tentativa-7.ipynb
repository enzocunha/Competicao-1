{
 "cells": [
  {
   "cell_type": "code",
   "execution_count": 1,
   "id": "a241f697",
   "metadata": {
    "_cell_guid": "b1076dfc-b9ad-4769-8c92-a6c4dae69d19",
    "_uuid": "8f2839f25d086af736a60e9eeb907d3b93b6e0e5",
    "execution": {
     "iopub.execute_input": "2022-11-20T14:00:26.315016Z",
     "iopub.status.busy": "2022-11-20T14:00:26.314058Z",
     "iopub.status.idle": "2022-11-20T14:00:33.121395Z",
     "shell.execute_reply": "2022-11-20T14:00:33.120232Z"
    },
    "papermill": {
     "duration": 6.817114,
     "end_time": "2022-11-20T14:00:33.124429",
     "exception": false,
     "start_time": "2022-11-20T14:00:26.307315",
     "status": "completed"
    },
    "tags": []
   },
   "outputs": [
    {
     "name": "stderr",
     "output_type": "stream",
     "text": [
      "/opt/conda/lib/python3.7/site-packages/IPython/core/interactiveshell.py:3552: DtypeWarning: Columns (11) have mixed types.Specify dtype option on import or set low_memory=False.\n",
      "  exec(code_obj, self.user_global_ns, self.user_ns)\n"
     ]
    }
   ],
   "source": [
    "import pandas as pd\n",
    "df_treino = pd.read_csv('../input/competicao-um-ic/train.csv')\n",
    "df_teste = pd.read_csv('../input/competicao-um-ic/test.csv')"
   ]
  },
  {
   "cell_type": "code",
   "execution_count": 2,
   "id": "a8000141",
   "metadata": {
    "execution": {
     "iopub.execute_input": "2022-11-20T14:00:33.134247Z",
     "iopub.status.busy": "2022-11-20T14:00:33.133603Z",
     "iopub.status.idle": "2022-11-20T14:00:33.139687Z",
     "shell.execute_reply": "2022-11-20T14:00:33.138823Z"
    },
    "papermill": {
     "duration": 0.013832,
     "end_time": "2022-11-20T14:00:33.142208",
     "exception": false,
     "start_time": "2022-11-20T14:00:33.128376",
     "status": "completed"
    },
    "tags": []
   },
   "outputs": [],
   "source": [
    "# ordinal encoder possui essa função, mas a versão do colab não está atualizada\n",
    "def fillna(df):\n",
    "    for col in df:\n",
    "        if df[col].dtype == 'O':\n",
    "            df[col].fillna('NA', inplace=True)\n",
    "        else:\n",
    "            df[col].fillna(999999, inplace=True)"
   ]
  },
  {
   "cell_type": "code",
   "execution_count": 3,
   "id": "2d40257b",
   "metadata": {
    "execution": {
     "iopub.execute_input": "2022-11-20T14:00:33.151294Z",
     "iopub.status.busy": "2022-11-20T14:00:33.150942Z",
     "iopub.status.idle": "2022-11-20T14:00:33.599842Z",
     "shell.execute_reply": "2022-11-20T14:00:33.598914Z"
    },
    "papermill": {
     "duration": 0.456432,
     "end_time": "2022-11-20T14:00:33.602508",
     "exception": false,
     "start_time": "2022-11-20T14:00:33.146076",
     "status": "completed"
    },
    "tags": []
   },
   "outputs": [],
   "source": [
    "fillna(df_treino)\n",
    "fillna(df_teste)"
   ]
  },
  {
   "cell_type": "code",
   "execution_count": 4,
   "id": "a72b9698",
   "metadata": {
    "execution": {
     "iopub.execute_input": "2022-11-20T14:00:33.612333Z",
     "iopub.status.busy": "2022-11-20T14:00:33.611958Z",
     "iopub.status.idle": "2022-11-20T14:00:33.682159Z",
     "shell.execute_reply": "2022-11-20T14:00:33.681091Z"
    },
    "papermill": {
     "duration": 0.078151,
     "end_time": "2022-11-20T14:00:33.684516",
     "exception": false,
     "start_time": "2022-11-20T14:00:33.606365",
     "status": "completed"
    },
    "tags": []
   },
   "outputs": [],
   "source": [
    "x_treino = df_treino.iloc[:, :-1]\n",
    "y_treino = df_treino.iloc[:, -1]\n",
    "# X teste é df_teste"
   ]
  },
  {
   "cell_type": "code",
   "execution_count": 5,
   "id": "5c370e6b",
   "metadata": {
    "execution": {
     "iopub.execute_input": "2022-11-20T14:00:33.693390Z",
     "iopub.status.busy": "2022-11-20T14:00:33.693051Z",
     "iopub.status.idle": "2022-11-20T14:00:37.455486Z",
     "shell.execute_reply": "2022-11-20T14:00:37.454199Z"
    },
    "papermill": {
     "duration": 3.769953,
     "end_time": "2022-11-20T14:00:37.458238",
     "exception": false,
     "start_time": "2022-11-20T14:00:33.688285",
     "status": "completed"
    },
    "tags": []
   },
   "outputs": [],
   "source": [
    "from sklearn.preprocessing import OrdinalEncoder\n",
    "\n",
    "enc = OrdinalEncoder(handle_unknown='use_encoded_value', unknown_value=-1)\n",
    "\n",
    "x_treino = pd.DataFrame(enc.fit_transform(x_treino))"
   ]
  },
  {
   "cell_type": "code",
   "execution_count": 6,
   "id": "b53e40e4",
   "metadata": {
    "execution": {
     "iopub.execute_input": "2022-11-20T14:00:37.468057Z",
     "iopub.status.busy": "2022-11-20T14:00:37.467452Z",
     "iopub.status.idle": "2022-11-20T14:00:39.419314Z",
     "shell.execute_reply": "2022-11-20T14:00:39.418191Z"
    },
    "papermill": {
     "duration": 1.959783,
     "end_time": "2022-11-20T14:00:39.422008",
     "exception": false,
     "start_time": "2022-11-20T14:00:37.462225",
     "status": "completed"
    },
    "tags": []
   },
   "outputs": [],
   "source": [
    "x_teste = pd.DataFrame(enc.transform(df_teste))"
   ]
  },
  {
   "cell_type": "code",
   "execution_count": 7,
   "id": "87bffc67",
   "metadata": {
    "execution": {
     "iopub.execute_input": "2022-11-20T14:00:39.432394Z",
     "iopub.status.busy": "2022-11-20T14:00:39.431439Z",
     "iopub.status.idle": "2022-11-20T14:00:40.695449Z",
     "shell.execute_reply": "2022-11-20T14:00:40.694297Z"
    },
    "papermill": {
     "duration": 1.272442,
     "end_time": "2022-11-20T14:00:40.698487",
     "exception": false,
     "start_time": "2022-11-20T14:00:39.426045",
     "status": "completed"
    },
    "tags": []
   },
   "outputs": [],
   "source": [
    "from sklearn.feature_selection import SelectKBest\n",
    "from sklearn.feature_selection import chi2\n",
    "\n",
    "select = SelectKBest(chi2, k=19)\n",
    "select.fit_transform(x_treino, y_treino)\n",
    "cols = select.get_support()\n",
    "x_treino_novo = x_treino.iloc[:,cols]"
   ]
  },
  {
   "cell_type": "code",
   "execution_count": 8,
   "id": "34651185",
   "metadata": {
    "execution": {
     "iopub.execute_input": "2022-11-20T14:00:40.709165Z",
     "iopub.status.busy": "2022-11-20T14:00:40.708220Z",
     "iopub.status.idle": "2022-11-20T14:03:07.208325Z",
     "shell.execute_reply": "2022-11-20T14:03:07.206958Z"
    },
    "papermill": {
     "duration": 146.511058,
     "end_time": "2022-11-20T14:03:07.214221",
     "exception": false,
     "start_time": "2022-11-20T14:00:40.703163",
     "status": "completed"
    },
    "tags": []
   },
   "outputs": [
    {
     "data": {
      "text/plain": [
       "RandomForestClassifier(max_depth=20, max_features=10)"
      ]
     },
     "execution_count": 8,
     "metadata": {},
     "output_type": "execute_result"
    }
   ],
   "source": [
    "from sklearn.ensemble import RandomForestClassifier\n",
    "\n",
    "clf = RandomForestClassifier(max_features=10, max_depth=20)\n",
    "clf.fit(x_treino_novo, y_treino)"
   ]
  },
  {
   "cell_type": "code",
   "execution_count": 9,
   "id": "5bef03a3",
   "metadata": {
    "execution": {
     "iopub.execute_input": "2022-11-20T14:03:07.224298Z",
     "iopub.status.busy": "2022-11-20T14:03:07.223886Z",
     "iopub.status.idle": "2022-11-20T14:03:07.253038Z",
     "shell.execute_reply": "2022-11-20T14:03:07.251649Z"
    },
    "papermill": {
     "duration": 0.037446,
     "end_time": "2022-11-20T14:03:07.255847",
     "exception": false,
     "start_time": "2022-11-20T14:03:07.218401",
     "status": "completed"
    },
    "tags": []
   },
   "outputs": [],
   "source": [
    "x_teste_novo = x_teste.iloc[:, cols]"
   ]
  },
  {
   "cell_type": "code",
   "execution_count": 10,
   "id": "ef8b2bee",
   "metadata": {
    "execution": {
     "iopub.execute_input": "2022-11-20T14:03:07.265480Z",
     "iopub.status.busy": "2022-11-20T14:03:07.265119Z",
     "iopub.status.idle": "2022-11-20T14:03:09.627927Z",
     "shell.execute_reply": "2022-11-20T14:03:09.626724Z"
    },
    "papermill": {
     "duration": 2.370895,
     "end_time": "2022-11-20T14:03:09.630743",
     "exception": false,
     "start_time": "2022-11-20T14:03:07.259848",
     "status": "completed"
    },
    "tags": []
   },
   "outputs": [],
   "source": [
    "predicao = clf.predict(x_teste_novo)"
   ]
  },
  {
   "cell_type": "code",
   "execution_count": 11,
   "id": "54e06472",
   "metadata": {
    "execution": {
     "iopub.execute_input": "2022-11-20T14:03:09.640428Z",
     "iopub.status.busy": "2022-11-20T14:03:09.640063Z",
     "iopub.status.idle": "2022-11-20T14:03:09.922297Z",
     "shell.execute_reply": "2022-11-20T14:03:09.921132Z"
    },
    "papermill": {
     "duration": 0.29043,
     "end_time": "2022-11-20T14:03:09.925180",
     "exception": false,
     "start_time": "2022-11-20T14:03:09.634750",
     "status": "completed"
    },
    "tags": []
   },
   "outputs": [],
   "source": [
    "ID = df_teste.iloc[:, 0].values.tolist()\n",
    "my_submission = pd.DataFrame({'ID': ID ,'DS_STATUS_ITEM': predicao})\n",
    "my_submission.to_csv('submission.csv', index=False)"
   ]
  },
  {
   "cell_type": "code",
   "execution_count": null,
   "id": "3106351c",
   "metadata": {
    "papermill": {
     "duration": 0.00402,
     "end_time": "2022-11-20T14:03:09.933219",
     "exception": false,
     "start_time": "2022-11-20T14:03:09.929199",
     "status": "completed"
    },
    "tags": []
   },
   "outputs": [],
   "source": []
  }
 ],
 "metadata": {
  "kernelspec": {
   "display_name": "Python 3",
   "language": "python",
   "name": "python3"
  },
  "language_info": {
   "codemirror_mode": {
    "name": "ipython",
    "version": 3
   },
   "file_extension": ".py",
   "mimetype": "text/x-python",
   "name": "python",
   "nbconvert_exporter": "python",
   "pygments_lexer": "ipython3",
   "version": "3.7.12"
  },
  "papermill": {
   "default_parameters": {},
   "duration": 172.872804,
   "end_time": "2022-11-20T14:03:10.760083",
   "environment_variables": {},
   "exception": null,
   "input_path": "__notebook__.ipynb",
   "output_path": "__notebook__.ipynb",
   "parameters": {},
   "start_time": "2022-11-20T14:00:17.887279",
   "version": "2.3.4"
  }
 },
 "nbformat": 4,
 "nbformat_minor": 5
}
